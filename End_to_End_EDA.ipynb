{
 "cells": [
  {
   "cell_type": "markdown",
   "metadata": {},
   "source": [
    "# 📊 End-to-End Exploratory Data Analysis (EDA)\n",
    "\n",
    "This notebook provides a **modular workflow** for performing both **basic and advanced EDA**.\n",
    "\n",
    "👉 Steps:\n",
    "1. Load dataset\n",
    "2. Perform Basic EDA\n",
    "3. Perform Advanced EDA (visualizations, correlations, PCA)\n",
    "\n",
    "Fill in your dataset path in the Parameters section."
   ]
  },
  {
   "cell_type": "code",
   "metadata": {},
   "source": [
    "# 📌 Parameters (edit these)\n",
    "CSV_PATH = \"path/to/your.csv\"  # dataset path\n",
    "TARGET_COL = None                # target column for classification/regression (optional)\n",
    "DATETIME_COL = None              # datetime column (optional)"
   ]
  },
  {
   "cell_type": "code",
   "metadata": {},
   "source": [
    "import pandas as pd\n",
    "import numpy as np\n",
    "import matplotlib.pyplot as plt\n",
    "import seaborn as sns\n",
    "from sklearn.decomposition import PCA\n",
    "from sklearn.preprocessing import StandardScaler\n",
    "\n",
    "df = pd.read_csv(CSV_PATH)\n",
    "df.head()"
   ]
  },
  {
   "cell_type": "markdown",
   "metadata": {},
   "source": [
    "## 🔹 1. Basic EDA"
   ]
  },
  {
   "cell_type": "code",
   "metadata": {},
   "source": [
    "print(df.shape)\n",
    "print(df.info())\n",
    "df.describe(include='all')"
   ]
  },
  {
   "cell_type": "code",
   "metadata": {},
   "source": [
    "df.isnull().sum().sort_values(ascending=False).head(10)"
   ]
  },
  {
   "cell_type": "code",
   "metadata": {},
   "source": [
    "plt.figure(figsize=(6,4))\n",
    "sns.heatmap(df.isnull(), cbar=False)\n",
    "plt.title(\"Missing Data Map\")\n",
    "plt.show()"
   ]
  },
  {
   "cell_type": "markdown",
   "metadata": {},
   "source": [
    "## 🔹 2. Advanced EDA & Visualizations"
   ]
  },
  {
   "cell_type": "code",
   "metadata": {},
   "source": [
    "num_cols = df.select_dtypes(include=np.number).columns.tolist()\n",
    "cat_cols = df.select_dtypes(exclude=np.number).columns.tolist()\n",
    "print(\"Numeric:\", num_cols)\n",
    "print(\"Categorical:\", cat_cols)"
   ]
  },
  {
   "cell_type": "code",
   "metadata": {},
   "source": [
    "for col in num_cols[:3]:\n",
    "    plt.figure(figsize=(6,4))\n",
    "    sns.histplot(df[col].dropna(), kde=True)\n",
    "    plt.title(f\"Distribution of {col}\")\n",
    "    plt.show()"
   ]
  },
  {
   "cell_type": "code",
   "metadata": {},
   "source": [
    "plt.figure(figsize=(8,6))\n",
    "sns.heatmap(df[num_cols].corr(), cmap='coolwarm', annot=False)\n",
    "plt.title(\"Correlation Heatmap\")\n",
    "plt.show()"
   ]
  },
  {
   "cell_type": "code",
   "metadata": {},
   "source": [
    "scaler = StandardScaler()\n",
    "X_scaled = scaler.fit_transform(df[num_cols].dropna())\n",
    "pca = PCA(n_components=2)\n",
    "X_pca = pca.fit_transform(X_scaled)\n",
    "plt.scatter(X_pca[:,0], X_pca[:,1], alpha=0.5)\n",
    "plt.title(\"PCA (first 2 components)\")\n",
    "plt.show()"
   ]
  }
 ],
 "metadata": {
  "kernelspec": {
   "display_name": "Python 3",
   "language": "python",
   "name": "python3"
  },
  "language_info": {
   "name": "python",
   "version": "3.11"
  }
 },
 "nbformat": 4,
 "nbformat_minor": 2
}